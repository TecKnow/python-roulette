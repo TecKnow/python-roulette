{
 "cells": [
  {
   "attachments": {},
   "cell_type": "markdown",
   "metadata": {},
   "source": [
    "# Modeling a roulette wheel in vanilla Python"
   ]
  },
  {
   "attachments": {},
   "cell_type": "markdown",
   "metadata": {},
   "source": [
    "The first thing to do is model the possible results.  The places where the ball can settle are called \"pockets.\"  American roulette has two green pockets call \"0\" and \"00.\"  I'm going to lazily label the double zero pocket as -1 for now.  The rest of the pockets are evenly (though irregularly) divided between red and black."
   ]
  },
  {
   "cell_type": "code",
   "execution_count": 22,
   "metadata": {},
   "outputs": [],
   "source": [
    "POCKETS =(\n",
    "    (-1, 'green'),\n",
    "    (0, 'green'),\n",
    "    (1, 'red'),\n",
    "    (2, 'black'),\n",
    "    (3, 'red'),\n",
    "    (4, 'black'),\n",
    "    (5, 'red'),\n",
    "    (6, 'black'),\n",
    "    (7, 'red'),\n",
    "    (8, 'black'),\n",
    "    (9, 'red'),\n",
    "    (10, 'black'),\n",
    "    (11, 'black'),\n",
    "    (12, 'red'),\n",
    "    (13, 'black'),\n",
    "    (14, 'red'),\n",
    "    (15, 'black'),\n",
    "    (16, 'red'),\n",
    "    (17, 'black'),\n",
    "    (18, 'red'),\n",
    "    (19, 'red'),\n",
    "    (20, 'black'),\n",
    "    (21, 'red'),\n",
    "    (22, 'black'),\n",
    "    (23, 'red'),\n",
    "    (24, 'black'),\n",
    "    (25, 'red'),\n",
    "    (26, 'black'),\n",
    "    (27, 'red'),\n",
    "    (28, 'black'),\n",
    "    (29, 'black'),\n",
    "    (30, 'red'),\n",
    "    (31, 'black'),\n",
    "    (32, 'red'),\n",
    "    (33, 'black'),\n",
    "    (34, 'red'),\n",
    "    (35, 'black'),\n",
    "    (36, 'red'))"
   ]
  },
  {
   "attachments": {},
   "cell_type": "markdown",
   "metadata": {},
   "source": [
    "We'll use the `choice()` function from Python's standard library to simulate the ball landing in a random pocket each round."
   ]
  },
  {
   "cell_type": "code",
   "execution_count": 23,
   "metadata": {},
   "outputs": [],
   "source": [
    "from random import choice"
   ]
  },
  {
   "attachments": {},
   "cell_type": "markdown",
   "metadata": {},
   "source": [
    "Here's an example of calling `random.choice()` with the `POCKETS` we defined above."
   ]
  },
  {
   "cell_type": "code",
   "execution_count": 24,
   "metadata": {},
   "outputs": [
    {
     "data": {
      "text/plain": [
       "(21, 'red')"
      ]
     },
     "metadata": {},
     "output_type": "display_data"
    }
   ],
   "source": [
    "display(choice(POCKETS))"
   ]
  },
  {
   "attachments": {},
   "cell_type": "markdown",
   "metadata": {},
   "source": [
    "Let's make sure that the results of calling `choice(POCKETS)` repeatedly looks like we'd expect.  We expect each possible result to be equally likely.  We can add up the frequencies of lots of objects using `collections.Counter()`"
   ]
  },
  {
   "cell_type": "code",
   "execution_count": 25,
   "metadata": {},
   "outputs": [],
   "source": [
    "from collections import Counter"
   ]
  },
  {
   "cell_type": "code",
   "execution_count": 26,
   "metadata": {},
   "outputs": [
    {
     "name": "stdout",
     "output_type": "stream",
     "text": [
      "Pocket\tFrequency\n",
      "-1\t26,501\n",
      "0\t26,399\n",
      "1\t26,547\n",
      "2\t26,181\n",
      "3\t26,618\n",
      "4\t26,334\n",
      "5\t26,382\n",
      "6\t26,592\n",
      "7\t26,321\n",
      "8\t26,245\n",
      "9\t26,324\n",
      "10\t26,483\n",
      "11\t26,329\n",
      "12\t26,374\n",
      "13\t26,246\n",
      "14\t26,202\n",
      "15\t26,167\n",
      "16\t26,359\n",
      "17\t26,122\n",
      "18\t26,443\n",
      "19\t26,020\n",
      "20\t26,285\n",
      "21\t26,560\n",
      "22\t26,436\n",
      "23\t26,275\n",
      "24\t26,334\n",
      "25\t26,434\n",
      "26\t26,150\n",
      "27\t26,216\n",
      "28\t25,972\n",
      "29\t26,347\n",
      "30\t26,373\n",
      "31\t26,151\n",
      "32\t26,077\n",
      "33\t26,119\n",
      "34\t26,407\n",
      "35\t26,381\n",
      "36\t26,294\n"
     ]
    }
   ],
   "source": [
    "million_spins = tuple(choice(POCKETS) for _ in range(1_000_000))\n",
    "million_spin_frequencies = sorted(Counter(million_spins).most_common())\n",
    "print(\"Pocket\\tFrequency\")\n",
    "for pocket in million_spin_frequencies:\n",
    "    print(f\"{pocket[0][0]}\\t{pocket[1]:,g}\")"
   ]
  },
  {
   "attachments": {},
   "cell_type": "markdown",
   "metadata": {},
   "source": [
    "The table's a bit long, perhaps a graph?"
   ]
  },
  {
   "cell_type": "code",
   "execution_count": 27,
   "metadata": {},
   "outputs": [],
   "source": [
    "import matplotlib.pyplot as plt"
   ]
  },
  {
   "cell_type": "code",
   "execution_count": 29,
   "metadata": {},
   "outputs": [
    {
     "data": {
      "image/png": "[encoded data removed]",
      "text/plain": [
       "<Figure size 640x480 with 1 Axes>"
      ]
     },
     "metadata": {},
     "output_type": "display_data"
    }
   ],
   "source": [
    "fig, ax = plt.subplots()\n",
    "ax.bar([pocket[0][0] for pocket in million_spin_frequencies], [pocket[1] for pocket in million_spin_frequencies])\n",
    "ax.set_title(\"Pocket frequencies in 1,000,000 spins\")\n",
    "ax.set_xlabel(\"Pocket\")\n",
    "ax.set_ylabel(\"Frequency\")\n",
    "plt.show()"
   ]
  },
  {
   "attachments": {},
   "cell_type": "markdown",
   "metadata": {},
   "source": [
    "That seems relatively uniform to me."
   ]
  },
  {
   "attachments": {},
   "cell_type": "markdown",
   "metadata": {},
   "source": [
    "The next step is to model some bets, meaning a function that return true if they win and the payout if they do."
   ]
  },
  {
   "attachments": {},
   "cell_type": "markdown",
   "metadata": {},
   "source": [
    "The final step is to model different betting strategies and graph the results."
   ]
  }
 ],
 "metadata": {
  "kernelspec": {
   "display_name": "env",
   "language": "python",
   "name": "python3"
  },
  "language_info": {
   "codemirror_mode": {
    "name": "ipython",
    "version": 3
   },
   "file_extension": ".py",
   "mimetype": "text/x-python",
   "name": "python",
   "nbconvert_exporter": "python",
   "pygments_lexer": "ipython3",
   "version": "3.11.3"
  },
  "orig_nbformat": 4
 },
 "nbformat": 4,
 "nbformat_minor": 2
}
