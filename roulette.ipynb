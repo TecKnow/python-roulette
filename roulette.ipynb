{
 "cells": [
  {
   "attachments": {},
   "cell_type": "markdown",
   "metadata": {},
   "source": [
    "# Modeling a roulette wheel in vanilla Python"
   ]
  },
  {
   "attachments": {},
   "cell_type": "markdown",
   "metadata": {},
   "source": [
    "## Why are you doing this?"
   ]
  },
  {
   "attachments": {},
   "cell_type": "markdown",
   "metadata": {},
   "source": [
    "I was recently informed that there is an entire ecosystem of roulette strategy videos on YouTube.  Many of them seem to be variations on martingale, but not quite all.  I thought it might be fun to investigate modeling a few of these strategies in Python.  \n",
    "\n",
    "Since comprehensibility is important, I wanted to do it in vanilla Python.  If I primarily cared about speed or nice output formatting I'd use pandas.  However, note that Pandas doesn't do as well when evaluating arbitrary user functions or when adding rows to a table one at a time.  Impelmenting these strategies efficiently in pandas would mean making them look much less like they'd play at the table."
   ]
  },
  {
   "attachments": {},
   "cell_type": "markdown",
   "metadata": {},
   "source": [
    "## What did you learn?"
   ]
  },
  {
   "attachments": {},
   "cell_type": "markdown",
   "metadata": {},
   "source": [
    "### About Jupyter Notebooks"
   ]
  },
  {
   "attachments": {},
   "cell_type": "markdown",
   "metadata": {},
   "source": [
    "Jupyter's mixing of code and prose often works very well, but a simulation like this really benefits from classes and Jupyter's style conflicts with that.  Since classes are defined in a single block of code, there can't be any markdown blocks within them.  There are ways to add methods to classes after they've been created but they're all against the idiom and much harder to read."
   ]
  },
  {
   "attachments": {},
   "cell_type": "markdown",
   "metadata": {},
   "source": [
    "### About the simulation"
   ]
  },
  {
   "attachments": {},
   "cell_type": "markdown",
   "metadata": {},
   "source": [
    "The hardest part by far was figuring out how to present the data.  Eventually I decided that since all the strategies will eventually go broke, the best thing to model was how long that takes.  Specifically, what proportion of the time will players using a given strategy fail to reach a given number of spins before they run out of money.\n",
    "\n",
    "All the strategies modeled make one of the best with the best odds, specifically bets on a color.  Given that, the way to play the most spins on average is, unsurprisingly, to always make the minimum bet.\n",
    "\n",
    "The data was hard to display because, while the martingale systems often run out of money shockingly fast, a small proportion of the time they play for a very long time.  This means there are a few spin counts that occur most often and a very wide range of higher values that only occur once or twice, which makes scaling the graph to show any detail very difficult.  I ventaully decided to ony show the first .8 to .95 of the cumulative probability distribution since that answers the question - How long will I get to play - pretty well."
   ]
  },
  {
   "attachments": {},
   "cell_type": "markdown",
   "metadata": {},
   "source": [
    "## Simulation"
   ]
  },
  {
   "attachments": {},
   "cell_type": "markdown",
   "metadata": {},
   "source": [
    "### The Game"
   ]
  },
  {
   "attachments": {},
   "cell_type": "markdown",
   "metadata": {},
   "source": [
    "#### The Wheel"
   ]
  },
  {
   "attachments": {},
   "cell_type": "markdown",
   "metadata": {},
   "source": [
    "The places where the ball can settle are called \"pockets.\"  American roulette has two green pockets call \"0\" and \"00.\"  I'm going to lazily label the double zero pocket as -1 for now.  The rest of the pockets are evenly (though irregularly) divided between red and black.\n",
    "\n",
    "If I were going to use this more widely, I'd probably model at least the color as an enum, and the pockets as a NamedTuple if not an enum themselves."
   ]
  },
  {
   "cell_type": "code",
   "execution_count": 727,
   "metadata": {},
   "outputs": [],
   "source": [
    "from random import choice\n",
    "import itertools\n",
    "from collections import Counter"
   ]
  },
  {
   "cell_type": "code",
   "execution_count": 728,
   "metadata": {},
   "outputs": [],
   "source": [
    "class RouletteWheel:\n",
    "    POCKETS =(\n",
    "        (-1, 'green'),\n",
    "        (0, 'green'),\n",
    "        (1, 'red'),\n",
    "        (2, 'black'),\n",
    "        (3, 'red'),\n",
    "        (4, 'black'),\n",
    "        (5, 'red'),\n",
    "        (6, 'black'),\n",
    "        (7, 'red'),\n",
    "        (8, 'black'),\n",
    "        (9, 'red'),\n",
    "        (10, 'black'),\n",
    "        (11, 'black'),\n",
    "        (12, 'red'),\n",
    "        (13, 'black'),\n",
    "        (14, 'red'),\n",
    "        (15, 'black'),\n",
    "        (16, 'red'),\n",
    "        (17, 'black'),\n",
    "        (18, 'red'),\n",
    "        (19, 'red'),\n",
    "        (20, 'black'),\n",
    "        (21, 'red'),\n",
    "        (22, 'black'),\n",
    "        (23, 'red'),\n",
    "        (24, 'black'),\n",
    "        (25, 'red'),\n",
    "        (26, 'black'),\n",
    "        (27, 'red'),\n",
    "        (28, 'black'),\n",
    "        (29, 'black'),\n",
    "        (30, 'red'),\n",
    "        (31, 'black'),\n",
    "        (32, 'red'),\n",
    "        (33, 'black'),\n",
    "        (34, 'red'),\n",
    "        (35, 'black'),\n",
    "        (36, 'red'))\n",
    "    \n",
    "    def spin(self):\n",
    "        return choice(self.POCKETS)"
   ]
  },
  {
   "attachments": {},
   "cell_type": "markdown",
   "metadata": {},
   "source": [
    "##### Demonstrate and test the wheel"
   ]
  },
  {
   "attachments": {},
   "cell_type": "markdown",
   "metadata": {},
   "source": [
    "Here's an example of calling `random.choice()` with the `POCKETS` we defined above."
   ]
  },
  {
   "cell_type": "code",
   "execution_count": 729,
   "metadata": {},
   "outputs": [
    {
     "name": "stdout",
     "output_type": "stream",
     "text": [
      "(29, 'black') (5, 'red') (8, 'black')\n"
     ]
    }
   ],
   "source": [
    "theWheel = RouletteWheel()\n",
    "print(\n",
    "    theWheel.spin(),\n",
    "    theWheel.spin(),\n",
    "    theWheel.spin(),)"
   ]
  },
  {
   "attachments": {},
   "cell_type": "markdown",
   "metadata": {},
   "source": [
    "To create a little more confidence that the wheel is fair, let's spin it many times and graph the results.  Each pocket should be about equally likely."
   ]
  },
  {
   "cell_type": "code",
   "execution_count": 730,
   "metadata": {},
   "outputs": [],
   "source": [
    "from collections import Counter"
   ]
  },
  {
   "cell_type": "code",
   "execution_count": 731,
   "metadata": {},
   "outputs": [],
   "source": [
    "million_spins = tuple(theWheel.spin() for _ in range(1_000_000))\n",
    "million_spins = sorted(Counter(million_spins).items())"
   ]
  },
  {
   "cell_type": "code",
   "execution_count": 732,
   "metadata": {},
   "outputs": [],
   "source": [
    "import matplotlib.pyplot as plt"
   ]
  },
  {
   "cell_type": "code",
   "execution_count": 733,
   "metadata": {},
   "outputs": [
    {
     "data": {
      "image/png": "[encoded data removed]",
      "text/plain": [
       "<Figure size 640x480 with 1 Axes>"
      ]
     },
     "metadata": {},
     "output_type": "display_data"
    }
   ],
   "source": [
    "fig, ax = plt.subplots()\n",
    "ax.bar([pocket[0][0] for pocket in million_spins], [pocket[1] for pocket in million_spins])\n",
    "ax.set_title(\"Pocket frequencies in 1,000,000 spins\")\n",
    "ax.set_xlabel(\"Pocket\")\n",
    "ax.set_ylabel(\"Frequency\")\n",
    "plt.show()"
   ]
  },
  {
   "attachments": {},
   "cell_type": "markdown",
   "metadata": {},
   "source": [
    "That seems relatively uniform to me."
   ]
  },
  {
   "attachments": {},
   "cell_type": "markdown",
   "metadata": {},
   "source": [
    "#### The Table"
   ]
  },
  {
   "attachments": {},
   "cell_type": "markdown",
   "metadata": {},
   "source": [
    "Multiple players can play the same roulette table simultaneously.  I originally wanted to show multiple players with different strategies playing the same table, so I bult this.  Unfortuantely, since I'm doing aggregate analysis of many, many runs, it's just simpler to have each player sitting at the table by themselves.  But this is the table the strategies were built to use, so it's still here.\n",
    "\n",
    "It's the wheel that keeps track of the history of spins.  It also notifies each player of the results and runs until they've all quit.  It can provide a list of players so they can be asked about their own histories.  This means player objects aren't easily reuseable and you just need to make new ones for each table."
   ]
  },
  {
   "cell_type": "code",
   "execution_count": 734,
   "metadata": {},
   "outputs": [],
   "source": [
    "class RouletteTable:\n",
    "    def __init__(self) -> None:\n",
    "        self.wheel = RouletteWheel()\n",
    "        self.wheel_history = list()\n",
    "        self.players = set()\n",
    "        self.live_players = set()\n",
    "    \n",
    "    def add_player(self, player):\n",
    "        self.players.add(player)\n",
    "        self.live_players.add(player)\n",
    "    \n",
    "    def round(self):\n",
    "        winning_pocket = self.wheel.spin()\n",
    "        for player in self.live_players:\n",
    "            player.inform(winning_pocket, self.wheel_history)\n",
    "        self.wheel_history.append(winning_pocket)\n",
    "    \n",
    "    def play(self):\n",
    "        while self.live_players:\n",
    "            self.round()\n",
    "            self.live_players = {player for player in self.live_players if player.alive()}\n",
    "    \n",
    "    def get_history(self):\n",
    "        return self.wheel_history\n",
    "    \n",
    "    def get_players(self):\n",
    "        return self.players"
   ]
  },
  {
   "attachments": {},
   "cell_type": "markdown",
   "metadata": {},
   "source": [
    "#### The Players"
   ]
  },
  {
   "attachments": {},
   "cell_type": "markdown",
   "metadata": {},
   "source": [
    "The strategy classes implement a common interface.  There's one that always makes a minimum bet on Red, one that always makes a minimum bet on black, and two based on YouTube videos that rolled across my Facebook at some point."
   ]
  },
  {
   "cell_type": "code",
   "execution_count": 735,
   "metadata": {},
   "outputs": [],
   "source": [
    "class AlwaysRed:\n",
    "    def __init__(self, starting_funds = 100, minimum_bet = 3) -> None:\n",
    "        self.funds = starting_funds\n",
    "        self.history = list()\n",
    "        self.bet = minimum_bet\n",
    "    \n",
    "    def inform(self, pocket, table_history):\n",
    "        number, color = pocket\n",
    "        bet = min(self.bet, self.funds)\n",
    "        if color == \"red\":\n",
    "            winnings = bet\n",
    "        else:\n",
    "            winnings = -bet\n",
    "        self.funds += winnings\n",
    "        self.history.append((\"AlwaysRed\", \"red\", winnings, self.funds))\n",
    "    \n",
    "    def alive(self):\n",
    "        return self.funds > 0\n",
    "\n",
    "    def get_history(self):\n",
    "        return self.history\n",
    "\n"
   ]
  },
  {
   "cell_type": "code",
   "execution_count": 736,
   "metadata": {},
   "outputs": [],
   "source": [
    "class AlwaysBlack:\n",
    "    def __init__(self, starting_funds = 100, minimum_bet = 3) -> None:\n",
    "        self.funds = starting_funds\n",
    "        self.history = list()\n",
    "        self.bet = minimum_bet\n",
    "    \n",
    "    def inform(self, pocket, table_history):\n",
    "        number, color = pocket\n",
    "        bet = min(self.bet, self.funds)\n",
    "        if color == \"black\":\n",
    "            winnings = bet\n",
    "        else:\n",
    "            winnings = -bet\n",
    "        self.funds += winnings\n",
    "        self.history.append((\"AlwaysBlack\", \"black\", bet, winnings, self.funds))\n",
    "    \n",
    "    def alive(self):\n",
    "        return self.funds > 0\n",
    "\n",
    "    def get_history(self):\n",
    "        return self.history\n",
    "\n"
   ]
  },
  {
   "attachments": {},
   "cell_type": "markdown",
   "metadata": {},
   "source": [
    "The strategy below comes from this video: [Martingale Chase](https://youtu.be/_72pAe_Wqw8)"
   ]
  },
  {
   "cell_type": "code",
   "execution_count": 737,
   "metadata": {},
   "outputs": [],
   "source": [
    "class MartingaleChase:\n",
    "    def __init__(self, starting_funds = 100, minimum_bet = 3, starting_color = \"black\", quit_on_loss = False) -> None:\n",
    "        self.starting_bet = minimum_bet\n",
    "        self.current_bet = minimum_bet\n",
    "        self.funds = starting_funds\n",
    "        self.last_seen_winning_color = starting_color\n",
    "        self.history = list()\n",
    "        self.early_quit = quit_on_loss\n",
    "        self.quit = False\n",
    "    \n",
    "    def inform(self, pocket, table_history):\n",
    "        winning_number, winning_color = pocket\n",
    "        bet_color = self.last_seen_winning_color\n",
    "        if (self.early_quit and self.current_bet > self.funds) or self.funds == 0:\n",
    "            self.quit = True\n",
    "        bet = min(self.current_bet, self.funds) if not self.quit else 0\n",
    "        if winning_color == bet_color:\n",
    "            winnings = bet\n",
    "            self.current_bet = self.starting_bet\n",
    "        else:\n",
    "            winnings = -bet\n",
    "            self.current_bet += self.current_bet\n",
    "        self.funds += winnings\n",
    "        self.history.append((\"MartingaleChase\", bet_color, bet, winnings, self.funds))\n",
    "        if winning_color != 'green':\n",
    "            self.last_seen_winning_color = winning_color\n",
    "    \n",
    "    def get_history(self):\n",
    "        return self.history\n",
    "    \n",
    "    def alive(self):\n",
    "        return not self.quit"
   ]
  },
  {
   "attachments": {},
   "cell_type": "markdown",
   "metadata": {},
   "source": [
    "The video doesn't name this strategy, so I will just name it after the channel [Makeshift](https://youtu.be/iR4wvKR1GUA)"
   ]
  },
  {
   "cell_type": "code",
   "execution_count": 738,
   "metadata": {},
   "outputs": [],
   "source": [
    "class Makeshift:\n",
    "    def __init__(self, starting_funds = 100, minimum_bet = 3, starting_color = \"black\", quit_on_loss = False) -> None:\n",
    "        self.starting_bet = minimum_bet\n",
    "        self.current_bet = minimum_bet\n",
    "        self.funds = starting_funds\n",
    "        self.starting_color = starting_color\n",
    "        self.bet_color = starting_color\n",
    "        self.history = list()\n",
    "        self.early_quit = quit_on_loss\n",
    "        self.quit = False\n",
    "    \n",
    "    def inform(self, pocket, table_history):\n",
    "        winning_number, winning_color = pocket\n",
    "        if (self.early_quit and self.current_bet > self.funds) or self.funds == 0:\n",
    "            self.quit = True\n",
    "        bet = min(self.current_bet, self.funds) if not self.quit else 0\n",
    "        bet_color = self.bet_color\n",
    "        if winning_color == bet_color:\n",
    "            winnings = bet\n",
    "            self.current_bet = self.starting_bet\n",
    "            self.bet_color=self.starting_color\n",
    "        else:\n",
    "            winnings = -bet\n",
    "            if self.bet_color == self.starting_color:\n",
    "                self.bet_color = 'red' if self.starting_color == 'black' else 'black'\n",
    "            else:\n",
    "                self.current_bet += self.current_bet\n",
    "        self.funds += winnings\n",
    "        self.history.append((\"Makeshift\", bet_color, bet, winnings, self.funds))\n",
    "    def get_history(self):\n",
    "        return self.history\n",
    "    \n",
    "    def alive(self):\n",
    "        return not self.quit"
   ]
  },
  {
   "attachments": {},
   "cell_type": "markdown",
   "metadata": {},
   "source": [
    "### The Data"
   ]
  },
  {
   "attachments": {},
   "cell_type": "markdown",
   "metadata": {},
   "source": [
    "Following is a method for sampling a strategy a large number of times."
   ]
  },
  {
   "cell_type": "code",
   "execution_count": 739,
   "metadata": {},
   "outputs": [],
   "source": [
    "def sample_strategy(strategy, iterations=10_000):\n",
    "    res = list()\n",
    "    for _ in range(iterations):\n",
    "        myTable = RouletteTable()\n",
    "        myPlayer = strategy()\n",
    "        myTable.add_player(myPlayer)\n",
    "        myTable.play()\n",
    "        res.append(tuple(zip(myTable.get_history(), myPlayer.get_history())))\n",
    "    return res"
   ]
  },
  {
   "attachments": {},
   "cell_type": "markdown",
   "metadata": {},
   "source": [
    "Now we make a dictionary of our strategies and all the samples we wanted to take."
   ]
  },
  {
   "cell_type": "code",
   "execution_count": 740,
   "metadata": {},
   "outputs": [],
   "source": [
    "strategy_samples = {\n",
    "    \"AlwaysRed\": sample_strategy(AlwaysRed),\n",
    "    \"AlwaysBlack\": sample_strategy(AlwaysBlack),\n",
    "    \"MartingaleChase\": sample_strategy(MartingaleChase),\n",
    "    \"Makeshift\": sample_strategy(Makeshift)\n",
    "    }"
   ]
  },
  {
   "attachments": {},
   "cell_type": "markdown",
   "metadata": {},
   "source": [
    "The dictionary above starts out with spin-by-spin history for each run.  To graph the data we've got do some aggregation, so I reduce each sample from its entire history into how many spins it took the player to go broke.  Then, I use the `Counter` class to make a frequency table, how many samples ended at a given number of spins."
   ]
  },
  {
   "cell_type": "code",
   "execution_count": 741,
   "metadata": {},
   "outputs": [],
   "source": [
    "strategy_samples_run_lengths = {k: [len(i) for i in v] for k, v in strategy_samples.items() for i in v}\n",
    "strategy_run_length_frequency_counters = {k: Counter(v) for k, v in strategy_samples_run_lengths.items()}"
   ]
  },
  {
   "attachments": {},
   "cell_type": "markdown",
   "metadata": {},
   "source": [
    "It's often more natural to talk about the _proportion_ of samples rather than the _count_ espeically when comparing things.  It's easier to say that something happend 25% of the time than 125/500 times, especially when comparing accross multiple distributions.  So here I normalize the frequency tables for each strategy.  That means I divide them by the number of samples, turning them into proportions that all together add up to 1.  Note that there's some very small floating point error here but it's accurate to at least 8 decimal places."
   ]
  },
  {
   "cell_type": "code",
   "execution_count": 742,
   "metadata": {},
   "outputs": [],
   "source": [
    "strategy_runs_normalized = {strat: sorted(((run, count/counter.total()) for run, count in counter.items())) for strat, counter in strategy_run_length_frequency_counters.items() }\n"
   ]
  },
  {
   "attachments": {},
   "cell_type": "markdown",
   "metadata": {},
   "source": [
    "I could try to graph the values above, but the number of players that went broke on exactly 9 spins, 10 spins, and 11 spins for example, aren't very useful by themselves.  I could try breaking the data into buckets instead, but I discuss why that doens't work very well at the very top of this post.  Instead, I think it's more natural to ask, what proportion of players make it to at least a given number of spins.  We'd answer that with a cumulative distribution, which I calculate below."
   ]
  },
  {
   "cell_type": "code",
   "execution_count": 743,
   "metadata": {},
   "outputs": [],
   "source": [
    "strategy_runs_cumulative = {strat: list(zip([run_len[0] for run_len in runs], itertools.accumulate([run_len[1] for run_len in runs]))) for strat, runs in strategy_runs_normalized.items()}"
   ]
  },
  {
   "attachments": {},
   "cell_type": "markdown",
   "metadata": {},
   "source": [
    "To make the graph more readable, and highlight the differences between strategies, below I trim off extreme results.  "
   ]
  },
  {
   "cell_type": "code",
   "execution_count": 744,
   "metadata": {},
   "outputs": [],
   "source": [
    "strategy_runs_cumulative_trimmed = {k: [r for r in v if r[1] <= 0.85] for k, v in strategy_runs_cumulative.items()}"
   ]
  },
  {
   "attachments": {},
   "cell_type": "markdown",
   "metadata": {},
   "source": [
    "### The Graphs"
   ]
  },
  {
   "attachments": {},
   "cell_type": "markdown",
   "metadata": {},
   "source": [
    "Here's the code that makes the graph, which I will discuss below."
   ]
  },
  {
   "cell_type": "code",
   "execution_count": 745,
   "metadata": {},
   "outputs": [
    {
     "data": {
      "image/png": "[encoded data removed]",
      "text/plain": [
       "<Figure size 640x480 with 1 Axes>"
      ]
     },
     "metadata": {},
     "output_type": "display_data"
    }
   ],
   "source": [
    "fig, ax = plt.subplots()\n",
    "\n",
    "for k, v in strategy_runs_cumulative_trimmed.items():\n",
    "    ax.plot([i[0] for i in v], [i[1] for i in v], label=str(k))\n",
    "ax.grid(True)\n",
    "ax.set_xlabel(\"spins to $0\")\n",
    "ax.set_ylabel(\"Proportion that don't get this far\")\n",
    "ax.legend()\n",
    "plt.show()\n"
   ]
  },
  {
   "attachments": {},
   "cell_type": "markdown",
   "metadata": {},
   "source": [
    "The y axis on this graph is the proportion of players who have gone broke by the time they reach the corresponding number of spins on the x axis.  So for example, about 70% of players using the Makeshift strategy went broke by the 200th spin."
   ]
  },
  {
   "attachments": {},
   "cell_type": "markdown",
   "metadata": {},
   "source": [
    "#### Does the graph look like we'd expect?"
   ]
  },
  {
   "attachments": {},
   "cell_type": "markdown",
   "metadata": {},
   "source": [
    "AlwaysRed and AlwaysBlack work as a sort of self-check here. Since both bets are equally likely, and they're always betting the same amount we'd expect them to perform very similarly, which we can see that they do.\n",
    "\n",
    "The two martingale variants have very similar shapes, just shifted around.  The strategy from the Makeshift video tends to take longer to run out of money, this is because it doesn't start doubling the bet until the second loss, so the exponential grows more slowly.  \n",
    "\n",
    "Why don't I graph just the martingale systems to get a closer look at them?"
   ]
  },
  {
   "cell_type": "code",
   "execution_count": 746,
   "metadata": {},
   "outputs": [
    {
     "data": {
      "image/png": "[encoded data removed]",
      "text/plain": [
       "<Figure size 640x480 with 1 Axes>"
      ]
     },
     "metadata": {},
     "output_type": "display_data"
    }
   ],
   "source": [
    "fig, ax = plt.subplots()\n",
    "\n",
    "for k, v in strategy_runs_cumulative_trimmed.items():\n",
    "    if k in {\"Makeshift\", \"MartingaleChase\"}:\n",
    "        ax.plot([i[0] for i in v], [i[1] for i in v], label=str(k))\n",
    "ax.grid(True)\n",
    "ax.set_xlabel(\"spins to $0\")\n",
    "ax.set_ylabel(\"Proportion that don't get this far\")\n",
    "ax.legend()\n",
    "plt.show()"
   ]
  },
  {
   "attachments": {},
   "cell_type": "markdown",
   "metadata": {},
   "source": [
    "It really stands out to me that using the strategy from the Makeshift video, you'll be going home after 50 spins or fewer about 25% of the time. Using the martingale chase strategy, you'll be going home after 28 spins or fewer about 25% of the time.\n",
    "\n",
    "I did a little quick Googling to find out how many spins per hour there are at major casinos.  There's a lot of variability, but there are apparently as few as approximately 30 spins per hour at more sedate casinos and as many as approximately 55 at faster ones.  Electronic roulette machines can be very fast.  So, using these martingale strategies there's a solid chance you'll go broke in an hour or less."
   ]
  }
 ],
 "metadata": {
  "kernelspec": {
   "display_name": "env",
   "language": "python",
   "name": "python3"
  },
  "language_info": {
   "codemirror_mode": {
    "name": "ipython",
    "version": 3
   },
   "file_extension": ".py",
   "mimetype": "text/x-python",
   "name": "python",
   "nbconvert_exporter": "python",
   "pygments_lexer": "ipython3",
   "version": "3.11.3"
  },
  "orig_nbformat": 4
 },
 "nbformat": 4,
 "nbformat_minor": 2
}
