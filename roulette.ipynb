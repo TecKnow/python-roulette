{
 "cells": [
  {
   "attachments": {},
   "cell_type": "markdown",
   "metadata": {},
   "source": [
    "# Modeling a roulette wheel in vanilla Python"
   ]
  },
  {
   "attachments": {},
   "cell_type": "markdown",
   "metadata": {},
   "source": [
    "The first thing to do is model the possible results.  The places where the ball can settle are called \"pockets.\"  American roulette has two green pockets call \"0\" and \"00.\"  I'm going to lazily label the double zero pocket as -1 for now.  The rest of the pockets are evenly (though irregularly) divided between red and black."
   ]
  },
  {
   "cell_type": "code",
   "execution_count": 563,
   "metadata": {},
   "outputs": [],
   "source": [
    "from random import choice"
   ]
  },
  {
   "cell_type": "code",
   "execution_count": 564,
   "metadata": {},
   "outputs": [],
   "source": [
    "class RouletteWheel:\n",
    "    POCKETS =(\n",
    "        (-1, 'green'),\n",
    "        (0, 'green'),\n",
    "        (1, 'red'),\n",
    "        (2, 'black'),\n",
    "        (3, 'red'),\n",
    "        (4, 'black'),\n",
    "        (5, 'red'),\n",
    "        (6, 'black'),\n",
    "        (7, 'red'),\n",
    "        (8, 'black'),\n",
    "        (9, 'red'),\n",
    "        (10, 'black'),\n",
    "        (11, 'black'),\n",
    "        (12, 'red'),\n",
    "        (13, 'black'),\n",
    "        (14, 'red'),\n",
    "        (15, 'black'),\n",
    "        (16, 'red'),\n",
    "        (17, 'black'),\n",
    "        (18, 'red'),\n",
    "        (19, 'red'),\n",
    "        (20, 'black'),\n",
    "        (21, 'red'),\n",
    "        (22, 'black'),\n",
    "        (23, 'red'),\n",
    "        (24, 'black'),\n",
    "        (25, 'red'),\n",
    "        (26, 'black'),\n",
    "        (27, 'red'),\n",
    "        (28, 'black'),\n",
    "        (29, 'black'),\n",
    "        (30, 'red'),\n",
    "        (31, 'black'),\n",
    "        (32, 'red'),\n",
    "        (33, 'black'),\n",
    "        (34, 'red'),\n",
    "        (35, 'black'),\n",
    "        (36, 'red'))\n",
    "    \n",
    "    def spin(self):\n",
    "        return choice(self.POCKETS)"
   ]
  },
  {
   "attachments": {},
   "cell_type": "markdown",
   "metadata": {},
   "source": [
    "Here's an example of calling `random.choice()` with the `POCKETS` we defined above."
   ]
  },
  {
   "cell_type": "code",
   "execution_count": 565,
   "metadata": {},
   "outputs": [
    {
     "name": "stdout",
     "output_type": "stream",
     "text": [
      "(25, 'red') (22, 'black') (32, 'red')\n"
     ]
    }
   ],
   "source": [
    "theWheel = RouletteWheel()\n",
    "print(\n",
    "    theWheel.spin(),\n",
    "    theWheel.spin(),\n",
    "    theWheel.spin(),)"
   ]
  },
  {
   "cell_type": "code",
   "execution_count": 566,
   "metadata": {},
   "outputs": [],
   "source": [
    "from collections import Counter"
   ]
  },
  {
   "cell_type": "code",
   "execution_count": 567,
   "metadata": {},
   "outputs": [
    {
     "name": "stdout",
     "output_type": "stream",
     "text": [
      "Pocket\tFrequency\n",
      "-1\t26,430\n",
      "0\t26,647\n",
      "1\t26,437\n",
      "2\t26,280\n",
      "3\t26,155\n",
      "4\t26,273\n",
      "5\t26,232\n",
      "6\t26,258\n",
      "7\t26,189\n",
      "8\t26,444\n",
      "9\t26,443\n",
      "10\t26,452\n",
      "11\t26,403\n",
      "12\t26,297\n",
      "13\t26,217\n",
      "14\t26,357\n",
      "15\t26,112\n",
      "16\t25,821\n",
      "17\t26,323\n",
      "18\t26,151\n",
      "19\t26,358\n",
      "20\t26,545\n",
      "21\t26,434\n",
      "22\t26,383\n",
      "23\t26,319\n",
      "24\t26,393\n",
      "25\t26,508\n",
      "26\t26,562\n",
      "27\t26,375\n",
      "28\t26,298\n",
      "29\t25,971\n",
      "30\t26,184\n",
      "31\t26,382\n",
      "32\t26,545\n",
      "33\t26,042\n",
      "34\t26,197\n",
      "35\t26,229\n",
      "36\t26,354\n"
     ]
    }
   ],
   "source": [
    "million_spins = tuple(theWheel.spin() for _ in range(1_000_000))\n",
    "million_spin_frequencies = sorted(Counter(million_spins).most_common())\n",
    "print(\"Pocket\\tFrequency\")\n",
    "for pocket in million_spin_frequencies:\n",
    "    print(f\"{pocket[0][0]}\\t{pocket[1]:,g}\")"
   ]
  },
  {
   "attachments": {},
   "cell_type": "markdown",
   "metadata": {},
   "source": [
    "The table's a bit long, perhaps a graph?"
   ]
  },
  {
   "cell_type": "code",
   "execution_count": 568,
   "metadata": {},
   "outputs": [],
   "source": [
    "import matplotlib.pyplot as plt"
   ]
  },
  {
   "cell_type": "code",
   "execution_count": 569,
   "metadata": {},
   "outputs": [
    {
     "data": {
      "image/png": "[encoded data removed]",
      "text/plain": [
       "<Figure size 640x480 with 1 Axes>"
      ]
     },
     "metadata": {},
     "output_type": "display_data"
    }
   ],
   "source": [
    "fig, ax = plt.subplots()\n",
    "ax.bar([pocket[0][0] for pocket in million_spin_frequencies], [pocket[1] for pocket in million_spin_frequencies])\n",
    "ax.set_title(\"Pocket frequencies in 1,000,000 spins\")\n",
    "ax.set_xlabel(\"Pocket\")\n",
    "ax.set_ylabel(\"Frequency\")\n",
    "plt.show()"
   ]
  },
  {
   "attachments": {},
   "cell_type": "markdown",
   "metadata": {},
   "source": [
    "That seems relatively uniform to me."
   ]
  },
  {
   "cell_type": "code",
   "execution_count": 570,
   "metadata": {},
   "outputs": [],
   "source": [
    "from itertools import zip_longest"
   ]
  },
  {
   "cell_type": "code",
   "execution_count": 571,
   "metadata": {},
   "outputs": [],
   "source": [
    "class RouletteTable:\n",
    "    def __init__(self) -> None:\n",
    "        self.wheel = RouletteWheel()\n",
    "        self.wheel_history = list()\n",
    "        self.players = set()\n",
    "        self.live_players = set()\n",
    "    \n",
    "    def add_player(self, player):\n",
    "        self.players.add(player)\n",
    "        self.live_players.add(player)\n",
    "    \n",
    "    def round(self):\n",
    "        winning_pocket = self.wheel.spin()\n",
    "        for player in self.players:\n",
    "            player.inform(winning_pocket, self.wheel_history)\n",
    "        self.wheel_history.append(winning_pocket)\n",
    "    \n",
    "    def play(self):\n",
    "        while self.live_players:\n",
    "            self.round()\n",
    "            self.live_players = {player for player in self.live_players if player.alive()}\n",
    "    \n",
    "    def get_history(self):\n",
    "        return list(enumerate(zip_longest(self.wheel_history, *[player.get_history() for player in self.players]), start=1))"
   ]
  },
  {
   "cell_type": "code",
   "execution_count": 572,
   "metadata": {},
   "outputs": [],
   "source": [
    "class AlwaysRed:\n",
    "    def __init__(self, starting_funds = 100, minimum_bet = 3) -> None:\n",
    "        self.funds = starting_funds\n",
    "        self.history = list()\n",
    "        self.bet = minimum_bet\n",
    "    \n",
    "    def inform(self, pocket, table_history):\n",
    "        number, color = pocket\n",
    "        bet = min(self.bet, self.funds)\n",
    "        if color == \"red\":\n",
    "            winnings = bet\n",
    "        else:\n",
    "            winnings = -bet\n",
    "        self.funds += winnings\n",
    "        self.history.append((\"AlwaysRed\", \"red\", winnings, self.funds))\n",
    "    \n",
    "    def alive(self):\n",
    "        return self.funds > 0\n",
    "\n",
    "    def get_history(self):\n",
    "        return self.history\n",
    "\n"
   ]
  },
  {
   "cell_type": "code",
   "execution_count": 573,
   "metadata": {},
   "outputs": [],
   "source": [
    "class AlwaysBlack:\n",
    "    def __init__(self, starting_funds = 100, minimum_bet = 3) -> None:\n",
    "        self.funds = starting_funds\n",
    "        self.history = list()\n",
    "        self.bet = minimum_bet\n",
    "    \n",
    "    def inform(self, pocket, table_history):\n",
    "        number, color = pocket\n",
    "        bet = min(self.bet, self.funds)\n",
    "        if color == \"black\":\n",
    "            winnings = bet\n",
    "        else:\n",
    "            winnings = -bet\n",
    "        self.funds += winnings\n",
    "        self.history.append((\"AlwaysBlack\", \"red\", bet, winnings, self.funds))\n",
    "    \n",
    "    def alive(self):\n",
    "        return self.funds > 0\n",
    "\n",
    "    def get_history(self):\n",
    "        return self.history\n",
    "\n"
   ]
  },
  {
   "cell_type": "code",
   "execution_count": 574,
   "metadata": {},
   "outputs": [],
   "source": [
    "class MartingaleChase:\n",
    "    def __init__(self, starting_funds = 100, minimum_bet = 3, starting_color = \"black\", quit_on_loss = False) -> None:\n",
    "        self.starting_bet = minimum_bet\n",
    "        self.current_bet = minimum_bet\n",
    "        self.funds = starting_funds\n",
    "        self.last_seen_winning_color = starting_color\n",
    "        self.history = list()\n",
    "        self.early_quit = quit_on_loss\n",
    "        self.quit = False\n",
    "    \n",
    "    def inform(self, pocket, table_history):\n",
    "        winning_number, winning_color = pocket\n",
    "        bet_color = self.last_seen_winning_color\n",
    "        if (self.early_quit and self.current_bet > self.funds) or self.funds == 0:\n",
    "            self.quit = True\n",
    "        bet = min(self.current_bet, self.funds) if not self.quit else 0\n",
    "        if winning_color == bet_color:\n",
    "            winnings = bet\n",
    "            self.current_bet = self.starting_bet\n",
    "        else:\n",
    "            winnings = -bet\n",
    "            self.current_bet += self.current_bet\n",
    "        self.funds += winnings\n",
    "        self.history.append((\"MartingaleChase\", bet_color, bet, winnings, self.funds))\n",
    "        if winning_color != 'green':\n",
    "            self.last_seen_winning_color = winning_color\n",
    "    \n",
    "    def get_history(self):\n",
    "        return self.history\n",
    "    \n",
    "    def alive(self):\n",
    "        return not self.quit"
   ]
  },
  {
   "cell_type": "code",
   "execution_count": 575,
   "metadata": {},
   "outputs": [],
   "source": [
    "class Makeshift:\n",
    "    def __init__(self, starting_funds = 100, minimum_bet = 3, starting_color = \"black\", quit_on_loss = False) -> None:\n",
    "        pass\n",
    "    \n",
    "    def inform(self, pocket, table_history):\n",
    "        pass\n",
    "    \n",
    "    def get_history(self):\n",
    "        pass\n",
    "    \n",
    "    def alive(self):\n",
    "        return not self.quit"
   ]
  },
  {
   "cell_type": "code",
   "execution_count": 576,
   "metadata": {},
   "outputs": [],
   "source": [
    "def sample_martingale():\n",
    "    myTable = RouletteTable()\n",
    "    myTable.add_player(MartingaleChase(quit_on_loss=False))\n",
    "    myTable.play()\n",
    "    return len(myTable.get_history())"
   ]
  },
  {
   "cell_type": "code",
   "execution_count": 577,
   "metadata": {},
   "outputs": [],
   "source": [
    "martingale_samples = tuple(sample_martingale() for _ in range(1_000_000))"
   ]
  },
  {
   "cell_type": "code",
   "execution_count": 580,
   "metadata": {},
   "outputs": [],
   "source": [
    "import itertools\n",
    "martingale_frequency_counter = Counter(martingale_samples)\n",
    "martingale_frequencies = sorted(martingale_frequency_counter.most_common())\n",
    "martingale_frequencies_normalized = [(rounds, count/len(martingale_samples)) for rounds, count in martingale_frequencies]\n",
    "martingale_frequencies_cumulative = list(zip([x[0] for x in martingale_frequencies_normalized], itertools.accumulate([x[1] for x in martingale_frequencies_normalized])))\n",
    "martingale_frequencies_trimmed = [x for x in martingale_frequencies_cumulative if x[1] <= 0.80]\n"
   ]
  },
  {
   "cell_type": "code",
   "execution_count": 581,
   "metadata": {},
   "outputs": [
    {
     "data": {
      "image/png": "[encoded data removed]",
      "text/plain": [
       "<Figure size 640x480 with 1 Axes>"
      ]
     },
     "metadata": {},
     "output_type": "display_data"
    }
   ],
   "source": [
    "fig, ax = plt.subplots()\n",
    "ax.plot([x[0] for x in martingale_frequencies_trimmed], [x[1] for x in martingale_frequencies_trimmed])\n",
    "ax.grid(True)\n",
    "plt.show()\n"
   ]
  }
 ],
 "metadata": {
  "kernelspec": {
   "display_name": "env",
   "language": "python",
   "name": "python3"
  },
  "language_info": {
   "codemirror_mode": {
    "name": "ipython",
    "version": 3
   },
   "file_extension": ".py",
   "mimetype": "text/x-python",
   "name": "python",
   "nbconvert_exporter": "python",
   "pygments_lexer": "ipython3",
   "version": "3.11.3"
  },
  "orig_nbformat": 4
 },
 "nbformat": 4,
 "nbformat_minor": 2
}
