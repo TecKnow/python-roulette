{
 "cells": [
  {
   "attachments": {},
   "cell_type": "markdown",
   "metadata": {},
   "source": [
    "# Modeling a roulette wheel in vanilla Python"
   ]
  },
  {
   "attachments": {},
   "cell_type": "markdown",
   "metadata": {},
   "source": [
    "The first thing to do is model the possible results.  The places where the ball can settle are called \"pockets.\"  American roulette has two green pockets call \"0\" and \"00.\"  I'm going to lazily label the double zero pocket as -1 for now.  The rest of the pockets are evenly (though irregularly) divided between red and black."
   ]
  },
  {
   "cell_type": "code",
   "execution_count": 125,
   "metadata": {},
   "outputs": [],
   "source": [
    "POCKETS =(\n",
    "    (-1, 'green'),\n",
    "    (0, 'green'),\n",
    "    (1, 'red'),\n",
    "    (2, 'black'),\n",
    "    (3, 'red'),\n",
    "    (4, 'black'),\n",
    "    (5, 'red'),\n",
    "    (6, 'black'),\n",
    "    (7, 'red'),\n",
    "    (8, 'black'),\n",
    "    (9, 'red'),\n",
    "    (10, 'black'),\n",
    "    (11, 'black'),\n",
    "    (12, 'red'),\n",
    "    (13, 'black'),\n",
    "    (14, 'red'),\n",
    "    (15, 'black'),\n",
    "    (16, 'red'),\n",
    "    (17, 'black'),\n",
    "    (18, 'red'),\n",
    "    (19, 'red'),\n",
    "    (20, 'black'),\n",
    "    (21, 'red'),\n",
    "    (22, 'black'),\n",
    "    (23, 'red'),\n",
    "    (24, 'black'),\n",
    "    (25, 'red'),\n",
    "    (26, 'black'),\n",
    "    (27, 'red'),\n",
    "    (28, 'black'),\n",
    "    (29, 'black'),\n",
    "    (30, 'red'),\n",
    "    (31, 'black'),\n",
    "    (32, 'red'),\n",
    "    (33, 'black'),\n",
    "    (34, 'red'),\n",
    "    (35, 'black'),\n",
    "    (36, 'red'))"
   ]
  },
  {
   "attachments": {},
   "cell_type": "markdown",
   "metadata": {},
   "source": [
    "We'll use the `choice()` function from Python's standard library to simulate the ball landing in a random pocket each round."
   ]
  },
  {
   "cell_type": "code",
   "execution_count": 126,
   "metadata": {},
   "outputs": [],
   "source": [
    "from random import choice"
   ]
  },
  {
   "attachments": {},
   "cell_type": "markdown",
   "metadata": {},
   "source": [
    "Here's an example of calling `random.choice()` with the `POCKETS` we defined above."
   ]
  },
  {
   "cell_type": "code",
   "execution_count": 127,
   "metadata": {},
   "outputs": [
    {
     "data": {
      "text/plain": [
       "(8, 'black')"
      ]
     },
     "metadata": {},
     "output_type": "display_data"
    }
   ],
   "source": [
    "display(choice(POCKETS))"
   ]
  },
  {
   "attachments": {},
   "cell_type": "markdown",
   "metadata": {},
   "source": [
    "Let's make sure that the results of calling `choice(POCKETS)` repeatedly looks like we'd expect.  We expect each possible result to be equally likely.  We can add up the frequencies of lots of objects using `collections.Counter()`"
   ]
  },
  {
   "cell_type": "code",
   "execution_count": 128,
   "metadata": {},
   "outputs": [],
   "source": [
    "from collections import Counter"
   ]
  },
  {
   "cell_type": "code",
   "execution_count": 129,
   "metadata": {},
   "outputs": [
    {
     "name": "stdout",
     "output_type": "stream",
     "text": [
      "Pocket\tFrequency\n",
      "-1\t26,368\n",
      "0\t26,445\n",
      "1\t26,316\n",
      "2\t26,329\n",
      "3\t26,246\n",
      "4\t26,316\n",
      "5\t26,270\n",
      "6\t26,392\n",
      "7\t26,145\n",
      "8\t26,511\n",
      "9\t25,996\n",
      "10\t26,214\n",
      "11\t26,507\n",
      "12\t26,023\n",
      "13\t26,277\n",
      "14\t26,353\n",
      "15\t26,455\n",
      "16\t25,759\n",
      "17\t26,119\n",
      "18\t26,555\n",
      "19\t26,377\n",
      "20\t26,304\n",
      "21\t26,496\n",
      "22\t26,508\n",
      "23\t26,429\n",
      "24\t26,339\n",
      "25\t26,457\n",
      "26\t26,422\n",
      "27\t26,519\n",
      "28\t26,280\n",
      "29\t26,406\n",
      "30\t26,284\n",
      "31\t26,339\n",
      "32\t26,379\n",
      "33\t26,122\n",
      "34\t26,233\n",
      "35\t26,227\n",
      "36\t26,283\n"
     ]
    }
   ],
   "source": [
    "million_spins = tuple(choice(POCKETS) for _ in range(1_000_000))\n",
    "million_spin_frequencies = sorted(Counter(million_spins).most_common())\n",
    "print(\"Pocket\\tFrequency\")\n",
    "for pocket in million_spin_frequencies:\n",
    "    print(f\"{pocket[0][0]}\\t{pocket[1]:,g}\")"
   ]
  },
  {
   "attachments": {},
   "cell_type": "markdown",
   "metadata": {},
   "source": [
    "The table's a bit long, perhaps a graph?"
   ]
  },
  {
   "cell_type": "code",
   "execution_count": 130,
   "metadata": {},
   "outputs": [],
   "source": [
    "import matplotlib.pyplot as plt"
   ]
  },
  {
   "cell_type": "code",
   "execution_count": 131,
   "metadata": {},
   "outputs": [
    {
     "data": {
      "image/png": "[encoded data removed]",
      "text/plain": [
       "<Figure size 640x480 with 1 Axes>"
      ]
     },
     "metadata": {},
     "output_type": "display_data"
    }
   ],
   "source": [
    "fig, ax = plt.subplots()\n",
    "ax.bar([pocket[0][0] for pocket in million_spin_frequencies], [pocket[1] for pocket in million_spin_frequencies])\n",
    "ax.set_title(\"Pocket frequencies in 1,000,000 spins\")\n",
    "ax.set_xlabel(\"Pocket\")\n",
    "ax.set_ylabel(\"Frequency\")\n",
    "plt.show()"
   ]
  },
  {
   "attachments": {},
   "cell_type": "markdown",
   "metadata": {},
   "source": [
    "That seems relatively uniform to me."
   ]
  },
  {
   "attachments": {},
   "cell_type": "markdown",
   "metadata": {},
   "source": [
    "The next step is to model some bets, meaning a funciton that takes the round's winning pocket and the player's bet and returns how their balance should change.  The strategies that we want to test focus on \"outside\" bets, specifically the ones with the most even odds such as even, odd, red, or black, so I will start with those."
   ]
  },
  {
   "cell_type": "code",
   "execution_count": 132,
   "metadata": {},
   "outputs": [],
   "source": [
    "def bet_even(pocket, bet):\n",
    "    pocket_number, pocket_color = pocket\n",
    "    if pocket_number > 0 and pocket_number % 2 == 0:\n",
    "        return bet\n",
    "    else:\n",
    "        return -bet\n"
   ]
  },
  {
   "cell_type": "code",
   "execution_count": 133,
   "metadata": {},
   "outputs": [],
   "source": [
    "def bet_odd(pocket, bet):\n",
    "    pocket_number, pocket_color = pocket\n",
    "    if pocket_number > 0 and pocket_number % 2 == 1:\n",
    "        return bet\n",
    "    else:\n",
    "        return -bet"
   ]
  },
  {
   "cell_type": "code",
   "execution_count": 134,
   "metadata": {},
   "outputs": [],
   "source": [
    "def bet_red(pocket, bet):\n",
    "    pocket_number, pocket_color = pocket\n",
    "    if pocket_color == \"red\":\n",
    "        return bet\n",
    "    else:\n",
    "        return -bet"
   ]
  },
  {
   "cell_type": "code",
   "execution_count": 135,
   "metadata": {},
   "outputs": [],
   "source": [
    "def bet_black(pocket, bet):\n",
    "    pocket_number, pocket_color = pocket\n",
    "    if pocket_color == \"black\": \n",
    "        return bet\n",
    "    else: \n",
    "        return -bet"
   ]
  },
  {
   "attachments": {},
   "cell_type": "markdown",
   "metadata": {},
   "source": [
    "Let's test these betting strategies with a sample bet of $1 just to see if they behave the way we expect."
   ]
  },
  {
   "attachments": {},
   "cell_type": "markdown",
   "metadata": {},
   "source": [
    "Test Even:"
   ]
  },
  {
   "cell_type": "code",
   "execution_count": 136,
   "metadata": {},
   "outputs": [
    {
     "name": "stdout",
     "output_type": "stream",
     "text": [
      "(15, 'black') -1\n",
      "(22, 'black') 1\n",
      "(34, 'red') 1\n",
      "(20, 'black') 1\n",
      "(20, 'black') 1\n",
      "(28, 'black') 1\n",
      "(34, 'red') 1\n",
      "(15, 'black') -1\n",
      "(29, 'black') -1\n",
      "(0, 'green') -1\n"
     ]
    }
   ],
   "source": [
    "for round in range(10):\n",
    "    winning_pocket = choice(POCKETS)\n",
    "    result = bet_even(winning_pocket, 1)\n",
    "    print(f\"{winning_pocket} {result}\")"
   ]
  },
  {
   "attachments": {},
   "cell_type": "markdown",
   "metadata": {},
   "source": [
    "Test odd"
   ]
  },
  {
   "cell_type": "code",
   "execution_count": 137,
   "metadata": {},
   "outputs": [
    {
     "name": "stdout",
     "output_type": "stream",
     "text": [
      "(7, 'red') 1\n",
      "(22, 'black') -1\n",
      "(10, 'black') -1\n",
      "(30, 'red') -1\n",
      "(23, 'red') 1\n",
      "(17, 'black') 1\n",
      "(26, 'black') -1\n",
      "(3, 'red') 1\n",
      "(20, 'black') -1\n",
      "(14, 'red') -1\n"
     ]
    }
   ],
   "source": [
    "for round in range(10):\n",
    "    winning_pocket = choice(POCKETS)\n",
    "    result = bet_odd(winning_pocket, 1)\n",
    "    print(f\"{winning_pocket} {result}\")"
   ]
  },
  {
   "attachments": {},
   "cell_type": "markdown",
   "metadata": {},
   "source": [
    "Test Red"
   ]
  },
  {
   "cell_type": "code",
   "execution_count": 138,
   "metadata": {},
   "outputs": [
    {
     "name": "stdout",
     "output_type": "stream",
     "text": [
      "(16, 'red') 1\n",
      "(0, 'green') -1\n",
      "(11, 'black') -1\n",
      "(33, 'black') -1\n",
      "(31, 'black') -1\n",
      "(18, 'red') 1\n",
      "(34, 'red') 1\n",
      "(32, 'red') 1\n",
      "(27, 'red') 1\n",
      "(10, 'black') -1\n"
     ]
    }
   ],
   "source": [
    "for round in range(10):\n",
    "    winning_pocket = choice(POCKETS)\n",
    "    result = bet_red(winning_pocket, 1)\n",
    "    print(f\"{winning_pocket} {result}\")"
   ]
  },
  {
   "attachments": {},
   "cell_type": "markdown",
   "metadata": {},
   "source": [
    "Test black"
   ]
  },
  {
   "cell_type": "code",
   "execution_count": 139,
   "metadata": {},
   "outputs": [
    {
     "name": "stdout",
     "output_type": "stream",
     "text": [
      "(0, 'green') -1\n",
      "(3, 'red') -1\n",
      "(5, 'red') -1\n",
      "(-1, 'green') -1\n",
      "(22, 'black') 1\n",
      "(36, 'red') -1\n",
      "(5, 'red') -1\n",
      "(1, 'red') -1\n",
      "(8, 'black') 1\n",
      "(11, 'black') 1\n"
     ]
    }
   ],
   "source": [
    "for round in range(10):\n",
    "    winning_pocket = choice(POCKETS)\n",
    "    result = bet_black(winning_pocket, 1)\n",
    "    print(f\"{winning_pocket} {result}\")"
   ]
  },
  {
   "attachments": {},
   "cell_type": "markdown",
   "metadata": {},
   "source": [
    "The final step is to model different betting strategies and graph the results."
   ]
  }
 ],
 "metadata": {
  "kernelspec": {
   "display_name": "env",
   "language": "python",
   "name": "python3"
  },
  "language_info": {
   "codemirror_mode": {
    "name": "ipython",
    "version": 3
   },
   "file_extension": ".py",
   "mimetype": "text/x-python",
   "name": "python",
   "nbconvert_exporter": "python",
   "pygments_lexer": "ipython3",
   "version": "3.11.3"
  },
  "orig_nbformat": 4
 },
 "nbformat": 4,
 "nbformat_minor": 2
}
